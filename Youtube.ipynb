{
 "cells": [
  {
   "cell_type": "code",
   "execution_count": 110,
   "metadata": {},
   "outputs": [],
   "source": [
    "import pandas as pd\n",
    "import matplotlib.pyplot as plt\n",
    "import seaborn as sns\n",
    "ca_videos = pd.read_csv('CAvideos.csv')"
   ]
  },
  {
   "cell_type": "code",
   "execution_count": 125,
   "metadata": {},
   "outputs": [
    {
     "data": {
      "text/html": [
       "<div>\n",
       "<style scoped>\n",
       "    .dataframe tbody tr th:only-of-type {\n",
       "        vertical-align: middle;\n",
       "    }\n",
       "\n",
       "    .dataframe tbody tr th {\n",
       "        vertical-align: top;\n",
       "    }\n",
       "\n",
       "    .dataframe thead th {\n",
       "        text-align: right;\n",
       "    }\n",
       "</style>\n",
       "<table border=\"1\" class=\"dataframe\">\n",
       "  <thead>\n",
       "    <tr style=\"text-align: right;\">\n",
       "      <th></th>\n",
       "      <th>video_id</th>\n",
       "      <th>trending_date</th>\n",
       "      <th>title</th>\n",
       "      <th>channel_title</th>\n",
       "      <th>category_id</th>\n",
       "      <th>publish_time</th>\n",
       "      <th>tags</th>\n",
       "      <th>views</th>\n",
       "      <th>likes</th>\n",
       "      <th>dislikes</th>\n",
       "      <th>comment_count</th>\n",
       "      <th>thumbnail_link</th>\n",
       "      <th>comments_disabled</th>\n",
       "      <th>ratings_disabled</th>\n",
       "      <th>video_error_or_removed</th>\n",
       "      <th>description</th>\n",
       "    </tr>\n",
       "  </thead>\n",
       "  <tbody>\n",
       "    <tr>\n",
       "      <th>0</th>\n",
       "      <td>n1WpP7iowLc</td>\n",
       "      <td>17.14.11</td>\n",
       "      <td>Eminem - Walk On Water (Audio) ft. Beyoncé</td>\n",
       "      <td>EminemVEVO</td>\n",
       "      <td>10</td>\n",
       "      <td>2017-11-10T17:00:03.000Z</td>\n",
       "      <td>Eminem|\"Walk\"|\"On\"|\"Water\"|\"Aftermath/Shady/In...</td>\n",
       "      <td>17158579</td>\n",
       "      <td>787425</td>\n",
       "      <td>43420</td>\n",
       "      <td>125882</td>\n",
       "      <td>https://i.ytimg.com/vi/n1WpP7iowLc/default.jpg</td>\n",
       "      <td>False</td>\n",
       "      <td>False</td>\n",
       "      <td>False</td>\n",
       "      <td>Eminem's new track Walk on Water ft. Beyoncé i...</td>\n",
       "    </tr>\n",
       "    <tr>\n",
       "      <th>1</th>\n",
       "      <td>0dBIkQ4Mz1M</td>\n",
       "      <td>17.14.11</td>\n",
       "      <td>PLUSH - Bad Unboxing Fan Mail</td>\n",
       "      <td>iDubbbzTV</td>\n",
       "      <td>23</td>\n",
       "      <td>2017-11-13T17:00:00.000Z</td>\n",
       "      <td>plush|\"bad unboxing\"|\"unboxing\"|\"fan mail\"|\"id...</td>\n",
       "      <td>1014651</td>\n",
       "      <td>127794</td>\n",
       "      <td>1688</td>\n",
       "      <td>13030</td>\n",
       "      <td>https://i.ytimg.com/vi/0dBIkQ4Mz1M/default.jpg</td>\n",
       "      <td>False</td>\n",
       "      <td>False</td>\n",
       "      <td>False</td>\n",
       "      <td>STill got a lot of packages. Probably will las...</td>\n",
       "    </tr>\n",
       "    <tr>\n",
       "      <th>2</th>\n",
       "      <td>5qpjK5DgCt4</td>\n",
       "      <td>17.14.11</td>\n",
       "      <td>Racist Superman | Rudy Mancuso, King Bach &amp; Le...</td>\n",
       "      <td>Rudy Mancuso</td>\n",
       "      <td>23</td>\n",
       "      <td>2017-11-12T19:05:24.000Z</td>\n",
       "      <td>racist superman|\"rudy\"|\"mancuso\"|\"king\"|\"bach\"...</td>\n",
       "      <td>3191434</td>\n",
       "      <td>146035</td>\n",
       "      <td>5339</td>\n",
       "      <td>8181</td>\n",
       "      <td>https://i.ytimg.com/vi/5qpjK5DgCt4/default.jpg</td>\n",
       "      <td>False</td>\n",
       "      <td>False</td>\n",
       "      <td>False</td>\n",
       "      <td>WATCH MY PREVIOUS VIDEO ▶ \\n\\nSUBSCRIBE ► http...</td>\n",
       "    </tr>\n",
       "    <tr>\n",
       "      <th>3</th>\n",
       "      <td>d380meD0W0M</td>\n",
       "      <td>17.14.11</td>\n",
       "      <td>I Dare You: GOING BALD!?</td>\n",
       "      <td>nigahiga</td>\n",
       "      <td>24</td>\n",
       "      <td>2017-11-12T18:01:41.000Z</td>\n",
       "      <td>ryan|\"higa\"|\"higatv\"|\"nigahiga\"|\"i dare you\"|\"...</td>\n",
       "      <td>2095828</td>\n",
       "      <td>132239</td>\n",
       "      <td>1989</td>\n",
       "      <td>17518</td>\n",
       "      <td>https://i.ytimg.com/vi/d380meD0W0M/default.jpg</td>\n",
       "      <td>False</td>\n",
       "      <td>False</td>\n",
       "      <td>False</td>\n",
       "      <td>I know it's been a while since we did this sho...</td>\n",
       "    </tr>\n",
       "    <tr>\n",
       "      <th>4</th>\n",
       "      <td>2Vv-BfVoq4g</td>\n",
       "      <td>17.14.11</td>\n",
       "      <td>Ed Sheeran - Perfect (Official Music Video)</td>\n",
       "      <td>Ed Sheeran</td>\n",
       "      <td>10</td>\n",
       "      <td>2017-11-09T11:04:14.000Z</td>\n",
       "      <td>edsheeran|\"ed sheeran\"|\"acoustic\"|\"live\"|\"cove...</td>\n",
       "      <td>33523622</td>\n",
       "      <td>1634130</td>\n",
       "      <td>21082</td>\n",
       "      <td>85067</td>\n",
       "      <td>https://i.ytimg.com/vi/2Vv-BfVoq4g/default.jpg</td>\n",
       "      <td>False</td>\n",
       "      <td>False</td>\n",
       "      <td>False</td>\n",
       "      <td>🎧: https://ad.gt/yt-perfect\\n💰: https://atlant...</td>\n",
       "    </tr>\n",
       "  </tbody>\n",
       "</table>\n",
       "</div>"
      ],
      "text/plain": [
       "      video_id trending_date  \\\n",
       "0  n1WpP7iowLc      17.14.11   \n",
       "1  0dBIkQ4Mz1M      17.14.11   \n",
       "2  5qpjK5DgCt4      17.14.11   \n",
       "3  d380meD0W0M      17.14.11   \n",
       "4  2Vv-BfVoq4g      17.14.11   \n",
       "\n",
       "                                               title channel_title  \\\n",
       "0         Eminem - Walk On Water (Audio) ft. Beyoncé    EminemVEVO   \n",
       "1                      PLUSH - Bad Unboxing Fan Mail     iDubbbzTV   \n",
       "2  Racist Superman | Rudy Mancuso, King Bach & Le...  Rudy Mancuso   \n",
       "3                           I Dare You: GOING BALD!?      nigahiga   \n",
       "4        Ed Sheeran - Perfect (Official Music Video)    Ed Sheeran   \n",
       "\n",
       "   category_id              publish_time  \\\n",
       "0           10  2017-11-10T17:00:03.000Z   \n",
       "1           23  2017-11-13T17:00:00.000Z   \n",
       "2           23  2017-11-12T19:05:24.000Z   \n",
       "3           24  2017-11-12T18:01:41.000Z   \n",
       "4           10  2017-11-09T11:04:14.000Z   \n",
       "\n",
       "                                                tags     views    likes  \\\n",
       "0  Eminem|\"Walk\"|\"On\"|\"Water\"|\"Aftermath/Shady/In...  17158579   787425   \n",
       "1  plush|\"bad unboxing\"|\"unboxing\"|\"fan mail\"|\"id...   1014651   127794   \n",
       "2  racist superman|\"rudy\"|\"mancuso\"|\"king\"|\"bach\"...   3191434   146035   \n",
       "3  ryan|\"higa\"|\"higatv\"|\"nigahiga\"|\"i dare you\"|\"...   2095828   132239   \n",
       "4  edsheeran|\"ed sheeran\"|\"acoustic\"|\"live\"|\"cove...  33523622  1634130   \n",
       "\n",
       "   dislikes  comment_count                                  thumbnail_link  \\\n",
       "0     43420         125882  https://i.ytimg.com/vi/n1WpP7iowLc/default.jpg   \n",
       "1      1688          13030  https://i.ytimg.com/vi/0dBIkQ4Mz1M/default.jpg   \n",
       "2      5339           8181  https://i.ytimg.com/vi/5qpjK5DgCt4/default.jpg   \n",
       "3      1989          17518  https://i.ytimg.com/vi/d380meD0W0M/default.jpg   \n",
       "4     21082          85067  https://i.ytimg.com/vi/2Vv-BfVoq4g/default.jpg   \n",
       "\n",
       "   comments_disabled  ratings_disabled  video_error_or_removed  \\\n",
       "0              False             False                   False   \n",
       "1              False             False                   False   \n",
       "2              False             False                   False   \n",
       "3              False             False                   False   \n",
       "4              False             False                   False   \n",
       "\n",
       "                                         description  \n",
       "0  Eminem's new track Walk on Water ft. Beyoncé i...  \n",
       "1  STill got a lot of packages. Probably will las...  \n",
       "2  WATCH MY PREVIOUS VIDEO ▶ \\n\\nSUBSCRIBE ► http...  \n",
       "3  I know it's been a while since we did this sho...  \n",
       "4  🎧: https://ad.gt/yt-perfect\\n💰: https://atlant...  "
      ]
     },
     "execution_count": 125,
     "metadata": {},
     "output_type": "execute_result"
    }
   ],
   "source": [
    "ca_videos.head()"
   ]
  },
  {
   "cell_type": "code",
   "execution_count": 8,
   "metadata": {},
   "outputs": [
    {
     "data": {
      "text/plain": [
       "Index(['video_id', 'trending_date', 'title', 'channel_title', 'category_id',\n",
       "       'publish_time', 'tags', 'views', 'likes', 'dislikes', 'comment_count',\n",
       "       'thumbnail_link', 'comments_disabled', 'ratings_disabled',\n",
       "       'video_error_or_removed', 'description'],\n",
       "      dtype='object')"
      ]
     },
     "execution_count": 8,
     "metadata": {},
     "output_type": "execute_result"
    }
   ],
   "source": [
    "CAvideos.columns"
   ]
  },
  {
   "cell_type": "markdown",
   "metadata": {},
   "source": [
    "Посмтрим объем данных"
   ]
  },
  {
   "cell_type": "code",
   "execution_count": 17,
   "metadata": {},
   "outputs": [
    {
     "data": {
      "text/plain": [
       "(40840, 16)"
      ]
     },
     "execution_count": 17,
     "metadata": {},
     "output_type": "execute_result"
    }
   ],
   "source": [
    "ca_videos.shape"
   ]
  },
  {
   "cell_type": "markdown",
   "metadata": {},
   "source": [
    "Посмотрим на типы колонок"
   ]
  },
  {
   "cell_type": "code",
   "execution_count": 18,
   "metadata": {},
   "outputs": [
    {
     "data": {
      "text/plain": [
       "video_id                  object\n",
       "trending_date             object\n",
       "title                     object\n",
       "channel_title             object\n",
       "category_id                int64\n",
       "publish_time              object\n",
       "tags                      object\n",
       "views                      int64\n",
       "likes                      int64\n",
       "dislikes                   int64\n",
       "comment_count              int64\n",
       "thumbnail_link            object\n",
       "comments_disabled           bool\n",
       "ratings_disabled            bool\n",
       "video_error_or_removed      bool\n",
       "description               object\n",
       "dtype: object"
      ]
     },
     "execution_count": 18,
     "metadata": {},
     "output_type": "execute_result"
    }
   ],
   "source": [
    "ca_videos.dtypes"
   ]
  },
  {
   "cell_type": "markdown",
   "metadata": {},
   "source": [
    "Проверим числовые колонки"
   ]
  },
  {
   "cell_type": "code",
   "execution_count": 20,
   "metadata": {},
   "outputs": [
    {
     "data": {
      "text/html": [
       "<div>\n",
       "<style scoped>\n",
       "    .dataframe tbody tr th:only-of-type {\n",
       "        vertical-align: middle;\n",
       "    }\n",
       "\n",
       "    .dataframe tbody tr th {\n",
       "        vertical-align: top;\n",
       "    }\n",
       "\n",
       "    .dataframe thead th {\n",
       "        text-align: right;\n",
       "    }\n",
       "</style>\n",
       "<table border=\"1\" class=\"dataframe\">\n",
       "  <thead>\n",
       "    <tr style=\"text-align: right;\">\n",
       "      <th></th>\n",
       "      <th>category_id</th>\n",
       "      <th>views</th>\n",
       "      <th>likes</th>\n",
       "      <th>dislikes</th>\n",
       "      <th>comment_count</th>\n",
       "    </tr>\n",
       "  </thead>\n",
       "  <tbody>\n",
       "    <tr>\n",
       "      <th>count</th>\n",
       "      <td>40840.000000</td>\n",
       "      <td>4.084000e+04</td>\n",
       "      <td>4.084000e+04</td>\n",
       "      <td>4.084000e+04</td>\n",
       "      <td>4.084000e+04</td>\n",
       "    </tr>\n",
       "    <tr>\n",
       "      <th>mean</th>\n",
       "      <td>20.705828</td>\n",
       "      <td>6.034553e+05</td>\n",
       "      <td>2.187550e+04</td>\n",
       "      <td>1.397136e+03</td>\n",
       "      <td>2.785857e+03</td>\n",
       "    </tr>\n",
       "    <tr>\n",
       "      <th>std</th>\n",
       "      <td>6.975813</td>\n",
       "      <td>2.348963e+06</td>\n",
       "      <td>1.018000e+05</td>\n",
       "      <td>1.457738e+04</td>\n",
       "      <td>1.745803e+04</td>\n",
       "    </tr>\n",
       "    <tr>\n",
       "      <th>min</th>\n",
       "      <td>1.000000</td>\n",
       "      <td>5.180000e+02</td>\n",
       "      <td>0.000000e+00</td>\n",
       "      <td>0.000000e+00</td>\n",
       "      <td>0.000000e+00</td>\n",
       "    </tr>\n",
       "    <tr>\n",
       "      <th>25%</th>\n",
       "      <td>20.000000</td>\n",
       "      <td>2.706875e+04</td>\n",
       "      <td>5.330000e+02</td>\n",
       "      <td>2.900000e+01</td>\n",
       "      <td>7.900000e+01</td>\n",
       "    </tr>\n",
       "    <tr>\n",
       "      <th>50%</th>\n",
       "      <td>24.000000</td>\n",
       "      <td>1.192770e+05</td>\n",
       "      <td>2.699000e+03</td>\n",
       "      <td>1.340000e+02</td>\n",
       "      <td>3.760000e+02</td>\n",
       "    </tr>\n",
       "    <tr>\n",
       "      <th>75%</th>\n",
       "      <td>24.000000</td>\n",
       "      <td>4.431015e+05</td>\n",
       "      <td>1.179625e+04</td>\n",
       "      <td>5.320000e+02</td>\n",
       "      <td>1.376000e+03</td>\n",
       "    </tr>\n",
       "    <tr>\n",
       "      <th>max</th>\n",
       "      <td>44.000000</td>\n",
       "      <td>1.138762e+08</td>\n",
       "      <td>4.924056e+06</td>\n",
       "      <td>1.470386e+06</td>\n",
       "      <td>1.084435e+06</td>\n",
       "    </tr>\n",
       "  </tbody>\n",
       "</table>\n",
       "</div>"
      ],
      "text/plain": [
       "        category_id         views         likes      dislikes  comment_count\n",
       "count  40840.000000  4.084000e+04  4.084000e+04  4.084000e+04   4.084000e+04\n",
       "mean      20.705828  6.034553e+05  2.187550e+04  1.397136e+03   2.785857e+03\n",
       "std        6.975813  2.348963e+06  1.018000e+05  1.457738e+04   1.745803e+04\n",
       "min        1.000000  5.180000e+02  0.000000e+00  0.000000e+00   0.000000e+00\n",
       "25%       20.000000  2.706875e+04  5.330000e+02  2.900000e+01   7.900000e+01\n",
       "50%       24.000000  1.192770e+05  2.699000e+03  1.340000e+02   3.760000e+02\n",
       "75%       24.000000  4.431015e+05  1.179625e+04  5.320000e+02   1.376000e+03\n",
       "max       44.000000  1.138762e+08  4.924056e+06  1.470386e+06   1.084435e+06"
      ]
     },
     "execution_count": 20,
     "metadata": {},
     "output_type": "execute_result"
    }
   ],
   "source": [
    "ca_videos.describe()"
   ]
  },
  {
   "cell_type": "markdown",
   "metadata": {},
   "source": [
    "Посмотрим на корреляцию между колонками"
   ]
  },
  {
   "cell_type": "code",
   "execution_count": 25,
   "metadata": {},
   "outputs": [
    {
     "data": {
      "image/png": "[encoded data removed]",
      "text/plain": [
       "<Figure size 720x576 with 2 Axes>"
      ]
     },
     "metadata": {
      "needs_background": "light"
     },
     "output_type": "display_data"
    }
   ],
   "source": [
    "correlation_matrix = ca_videos.corr()\n",
    "plt.figure(figsize=(10, 8))\n",
    "sns.heatmap(correlation_matrix, annot=True, cmap='coolwarm', linewidths=0.5)\n",
    "plt.title('Correlation Matrix')\n",
    "plt.show()"
   ]
  },
  {
   "cell_type": "markdown",
   "metadata": {},
   "source": [
    "Как и ожидалось высокая корреляция между просмотрами с лайками, дизлайками и комментами"
   ]
  },
  {
   "cell_type": "markdown",
   "metadata": {},
   "source": [
    "Первый возникающий вопрос, от чего зависит просматриваемость видео. Интуитивно понимаем, что лучше всего проверить category_id,channel_title и может быть publish_time так как аудитория со временем растет "
   ]
  },
  {
   "cell_type": "markdown",
   "metadata": {},
   "source": [
    "Начнем с изучения категорий"
   ]
  },
  {
   "cell_type": "code",
   "execution_count": 28,
   "metadata": {},
   "outputs": [
    {
     "data": {
      "text/plain": [
       "<matplotlib.axes._subplots.AxesSubplot at 0x14596e9a790>"
      ]
     },
     "execution_count": 28,
     "metadata": {},
     "output_type": "execute_result"
    },
    {
     "data": {
      "image/png": "[encoded data removed]",
      "text/plain": [
       "<Figure size 432x288 with 1 Axes>"
      ]
     },
     "metadata": {
      "needs_background": "light"
     },
     "output_type": "display_data"
    }
   ],
   "source": [
    "ca_videos['category_id'].value_counts().plot(kind='bar')"
   ]
  },
  {
   "cell_type": "code",
   "execution_count": 29,
   "metadata": {},
   "outputs": [
    {
     "data": {
      "text/plain": [
       "24    13451\n",
       "25     4159\n",
       "22     4105\n",
       "23     3773\n",
       "10     3731\n",
       "17     2787\n",
       "1      2060\n",
       "26     2007\n",
       "20     1344\n",
       "28     1155\n",
       "27      991\n",
       "19      392\n",
       "15      369\n",
       "2       353\n",
       "43      124\n",
       "29       74\n",
       "30        6\n",
       "Name: category_id, dtype: int64"
      ]
     },
     "execution_count": 29,
     "metadata": {},
     "output_type": "execute_result"
    }
   ],
   "source": [
    "ca_videos['category_id'].value_counts()"
   ]
  },
  {
   "cell_type": "markdown",
   "metadata": {},
   "source": [
    "есть 16 категорий видео, для качества анализа оставим только категории в которых есть более 900 видео"
   ]
  },
  {
   "cell_type": "code",
   "execution_count": 65,
   "metadata": {},
   "outputs": [],
   "source": [
    "videos_by_category= ca_videos.groupby('category_id').agg({'video_id': 'count'})"
   ]
  },
  {
   "cell_type": "code",
   "execution_count": 66,
   "metadata": {},
   "outputs": [],
   "source": [
    "videos_by_category.reset_index(inplace=True)"
   ]
  },
  {
   "cell_type": "code",
   "execution_count": 70,
   "metadata": {},
   "outputs": [
    {
     "data": {
      "text/plain": [
       "[1, 10, 17, 20, 22, 23, 24, 25, 26, 27, 28]"
      ]
     },
     "execution_count": 70,
     "metadata": {},
     "output_type": "execute_result"
    }
   ],
   "source": [
    "popular_catigories = videos_by_category[videos_by_category['video_id']>900]\n",
    "top_category_ids = popular_catigories['category_id'].tolist()\n",
    "top_category_ids"
   ]
  },
  {
   "cell_type": "code",
   "execution_count": 94,
   "metadata": {},
   "outputs": [
    {
     "data": {
      "text/html": [
       "<div>\n",
       "<style scoped>\n",
       "    .dataframe tbody tr th:only-of-type {\n",
       "        vertical-align: middle;\n",
       "    }\n",
       "\n",
       "    .dataframe tbody tr th {\n",
       "        vertical-align: top;\n",
       "    }\n",
       "\n",
       "    .dataframe thead th {\n",
       "        text-align: right;\n",
       "    }\n",
       "</style>\n",
       "<table border=\"1\" class=\"dataframe\">\n",
       "  <thead>\n",
       "    <tr style=\"text-align: right;\">\n",
       "      <th></th>\n",
       "      <th>category_id</th>\n",
       "      <th>views,mln</th>\n",
       "      <th>likes,thousands</th>\n",
       "      <th>dislikes,thousands</th>\n",
       "      <th>likes_rate,%</th>\n",
       "      <th>dislikes_rate,%</th>\n",
       "      <th>appreciation</th>\n",
       "      <th>rank,views</th>\n",
       "      <th>rank,likes</th>\n",
       "      <th>rank,likes rate</th>\n",
       "      <th>rank,dislikes</th>\n",
       "      <th>rank,dislikes rate</th>\n",
       "      <th>rank, appreciation</th>\n",
       "      <th>total_rank</th>\n",
       "    </tr>\n",
       "  </thead>\n",
       "  <tbody>\n",
       "    <tr>\n",
       "      <th>0</th>\n",
       "      <td>1</td>\n",
       "      <td>1.426729</td>\n",
       "      <td>37.767963</td>\n",
       "      <td>1.510320</td>\n",
       "      <td>2.647172</td>\n",
       "      <td>0.105859</td>\n",
       "      <td>2.541313</td>\n",
       "      <td>10</td>\n",
       "      <td>8</td>\n",
       "      <td>3</td>\n",
       "      <td>6</td>\n",
       "      <td>11</td>\n",
       "      <td>3</td>\n",
       "      <td>41</td>\n",
       "    </tr>\n",
       "    <tr>\n",
       "      <th>1</th>\n",
       "      <td>10</td>\n",
       "      <td>3.532525</td>\n",
       "      <td>151.285856</td>\n",
       "      <td>5.922860</td>\n",
       "      <td>4.282655</td>\n",
       "      <td>0.167666</td>\n",
       "      <td>4.114989</td>\n",
       "      <td>11</td>\n",
       "      <td>11</td>\n",
       "      <td>10</td>\n",
       "      <td>1</td>\n",
       "      <td>5</td>\n",
       "      <td>10</td>\n",
       "      <td>48</td>\n",
       "    </tr>\n",
       "    <tr>\n",
       "      <th>2</th>\n",
       "      <td>17</td>\n",
       "      <td>1.075584</td>\n",
       "      <td>21.330972</td>\n",
       "      <td>1.179178</td>\n",
       "      <td>1.983199</td>\n",
       "      <td>0.109631</td>\n",
       "      <td>1.873568</td>\n",
       "      <td>8</td>\n",
       "      <td>3</td>\n",
       "      <td>1</td>\n",
       "      <td>8</td>\n",
       "      <td>10</td>\n",
       "      <td>2</td>\n",
       "      <td>32</td>\n",
       "    </tr>\n",
       "    <tr>\n",
       "      <th>3</th>\n",
       "      <td>20</td>\n",
       "      <td>0.923759</td>\n",
       "      <td>38.487018</td>\n",
       "      <td>1.820597</td>\n",
       "      <td>4.166347</td>\n",
       "      <td>0.197086</td>\n",
       "      <td>3.969262</td>\n",
       "      <td>5</td>\n",
       "      <td>9</td>\n",
       "      <td>9</td>\n",
       "      <td>4</td>\n",
       "      <td>3</td>\n",
       "      <td>9</td>\n",
       "      <td>39</td>\n",
       "    </tr>\n",
       "    <tr>\n",
       "      <th>4</th>\n",
       "      <td>22</td>\n",
       "      <td>0.786414</td>\n",
       "      <td>25.673219</td>\n",
       "      <td>2.309573</td>\n",
       "      <td>3.264595</td>\n",
       "      <td>0.293684</td>\n",
       "      <td>2.970911</td>\n",
       "      <td>4</td>\n",
       "      <td>5</td>\n",
       "      <td>7</td>\n",
       "      <td>2</td>\n",
       "      <td>1</td>\n",
       "      <td>6</td>\n",
       "      <td>25</td>\n",
       "    </tr>\n",
       "    <tr>\n",
       "      <th>5</th>\n",
       "      <td>23</td>\n",
       "      <td>0.982889</td>\n",
       "      <td>51.960422</td>\n",
       "      <td>1.423937</td>\n",
       "      <td>5.286502</td>\n",
       "      <td>0.144873</td>\n",
       "      <td>5.141629</td>\n",
       "      <td>6</td>\n",
       "      <td>10</td>\n",
       "      <td>11</td>\n",
       "      <td>7</td>\n",
       "      <td>7</td>\n",
       "      <td>11</td>\n",
       "      <td>52</td>\n",
       "    </tr>\n",
       "    <tr>\n",
       "      <th>6</th>\n",
       "      <td>24</td>\n",
       "      <td>1.016372</td>\n",
       "      <td>28.789342</td>\n",
       "      <td>1.917447</td>\n",
       "      <td>2.832560</td>\n",
       "      <td>0.188656</td>\n",
       "      <td>2.643904</td>\n",
       "      <td>7</td>\n",
       "      <td>6</td>\n",
       "      <td>4</td>\n",
       "      <td>3</td>\n",
       "      <td>4</td>\n",
       "      <td>4</td>\n",
       "      <td>28</td>\n",
       "    </tr>\n",
       "    <tr>\n",
       "      <th>7</th>\n",
       "      <td>25</td>\n",
       "      <td>0.388221</td>\n",
       "      <td>7.863682</td>\n",
       "      <td>0.784814</td>\n",
       "      <td>2.025570</td>\n",
       "      <td>0.202157</td>\n",
       "      <td>1.823413</td>\n",
       "      <td>1</td>\n",
       "      <td>1</td>\n",
       "      <td>2</td>\n",
       "      <td>11</td>\n",
       "      <td>2</td>\n",
       "      <td>1</td>\n",
       "      <td>18</td>\n",
       "    </tr>\n",
       "    <tr>\n",
       "      <th>8</th>\n",
       "      <td>26</td>\n",
       "      <td>0.782684</td>\n",
       "      <td>25.502294</td>\n",
       "      <td>0.862242</td>\n",
       "      <td>3.258313</td>\n",
       "      <td>0.110165</td>\n",
       "      <td>3.148148</td>\n",
       "      <td>3</td>\n",
       "      <td>4</td>\n",
       "      <td>6</td>\n",
       "      <td>9</td>\n",
       "      <td>9</td>\n",
       "      <td>7</td>\n",
       "      <td>38</td>\n",
       "    </tr>\n",
       "    <tr>\n",
       "      <th>9</th>\n",
       "      <td>27</td>\n",
       "      <td>0.536603</td>\n",
       "      <td>21.162868</td>\n",
       "      <td>0.800654</td>\n",
       "      <td>3.943861</td>\n",
       "      <td>0.149208</td>\n",
       "      <td>3.794653</td>\n",
       "      <td>2</td>\n",
       "      <td>2</td>\n",
       "      <td>8</td>\n",
       "      <td>10</td>\n",
       "      <td>6</td>\n",
       "      <td>8</td>\n",
       "      <td>36</td>\n",
       "    </tr>\n",
       "    <tr>\n",
       "      <th>10</th>\n",
       "      <td>28</td>\n",
       "      <td>1.233845</td>\n",
       "      <td>37.068916</td>\n",
       "      <td>1.550782</td>\n",
       "      <td>3.004343</td>\n",
       "      <td>0.125687</td>\n",
       "      <td>2.878656</td>\n",
       "      <td>9</td>\n",
       "      <td>7</td>\n",
       "      <td>5</td>\n",
       "      <td>5</td>\n",
       "      <td>8</td>\n",
       "      <td>5</td>\n",
       "      <td>39</td>\n",
       "    </tr>\n",
       "  </tbody>\n",
       "</table>\n",
       "</div>"
      ],
      "text/plain": [
       "    category_id  views,mln  likes,thousands  dislikes,thousands  likes_rate,%  \\\n",
       "0             1   1.426729        37.767963            1.510320      2.647172   \n",
       "1            10   3.532525       151.285856            5.922860      4.282655   \n",
       "2            17   1.075584        21.330972            1.179178      1.983199   \n",
       "3            20   0.923759        38.487018            1.820597      4.166347   \n",
       "4            22   0.786414        25.673219            2.309573      3.264595   \n",
       "5            23   0.982889        51.960422            1.423937      5.286502   \n",
       "6            24   1.016372        28.789342            1.917447      2.832560   \n",
       "7            25   0.388221         7.863682            0.784814      2.025570   \n",
       "8            26   0.782684        25.502294            0.862242      3.258313   \n",
       "9            27   0.536603        21.162868            0.800654      3.943861   \n",
       "10           28   1.233845        37.068916            1.550782      3.004343   \n",
       "\n",
       "    dislikes_rate,%  appreciation  rank,views  rank,likes  rank,likes rate  \\\n",
       "0          0.105859      2.541313          10           8                3   \n",
       "1          0.167666      4.114989          11          11               10   \n",
       "2          0.109631      1.873568           8           3                1   \n",
       "3          0.197086      3.969262           5           9                9   \n",
       "4          0.293684      2.970911           4           5                7   \n",
       "5          0.144873      5.141629           6          10               11   \n",
       "6          0.188656      2.643904           7           6                4   \n",
       "7          0.202157      1.823413           1           1                2   \n",
       "8          0.110165      3.148148           3           4                6   \n",
       "9          0.149208      3.794653           2           2                8   \n",
       "10         0.125687      2.878656           9           7                5   \n",
       "\n",
       "    rank,dislikes  rank,dislikes rate  rank, appreciation  total_rank  \n",
       "0               6                  11                   3          41  \n",
       "1               1                   5                  10          48  \n",
       "2               8                  10                   2          32  \n",
       "3               4                   3                   9          39  \n",
       "4               2                   1                   6          25  \n",
       "5               7                   7                  11          52  \n",
       "6               3                   4                   4          28  \n",
       "7              11                   2                   1          18  \n",
       "8               9                   9                   7          38  \n",
       "9              10                   6                   8          36  \n",
       "10              5                   8                   5          39  "
      ]
     },
     "execution_count": 94,
     "metadata": {},
     "output_type": "execute_result"
    }
   ],
   "source": [
    "ca_videos_top_categories = ca_videos[ca_videos['category_id'].isin(top_category_ids)]\n",
    "ca_videos_top_categories\n",
    "grouped_ca_videos_top_categories = ca_videos_top_categories.groupby('category_id').mean()[['views', 'likes', 'dislikes']]\n",
    "grouped_ca_videos_top_categories.reset_index(inplace=True)\n",
    "grouped_ca_videos_top_categories['views'] = grouped_ca_videos_top_categories['views']/1000000\n",
    "grouped_ca_videos_top_categories.rename(columns={'views': 'views,mln'}, inplace=True)\n",
    "grouped_ca_videos_top_categories['likes'] = grouped_ca_videos_top_categories['likes']/1000\n",
    "grouped_ca_videos_top_categories.rename(columns={'likes': 'likes,thousands'}, inplace=True)\n",
    "grouped_ca_videos_top_categories['dislikes'] = grouped_ca_videos_top_categories['dislikes']/1000\n",
    "grouped_ca_videos_top_categories.rename(columns={'dislikes': 'dislikes,thousands'}, inplace=True)\n",
    "grouped_ca_videos_top_categories['likes_rate,%'] = grouped_ca_videos_top_categories['likes,thousands']/grouped_ca_videos_top_categories['views,mln']/10\n",
    "grouped_ca_videos_top_categories['dislikes_rate,%'] = grouped_ca_videos_top_categories['dislikes,thousands']/grouped_ca_videos_top_categories['views,mln']/10\n",
    "grouped_ca_videos_top_categories['appreciation'] = grouped_ca_videos_top_categories['likes_rate,%']-grouped_ca_videos_top_categories['dislikes_rate,%']\n",
    "grouped_ca_videos_top_categories['rank,views'] = grouped_ca_videos_top_categories['views,mln'].rank(method='min').astype(int)\n",
    "grouped_ca_videos_top_categories['rank,likes'] = grouped_ca_videos_top_categories['likes,thousands'].rank(method='min').astype(int)\n",
    "grouped_ca_videos_top_categories['rank,likes rate'] = grouped_ca_videos_top_categories['likes_rate,%'].rank(method='min').astype(int)\n",
    "grouped_ca_videos_top_categories['rank,dislikes'] = grouped_ca_videos_top_categories['dislikes,thousands'].rank(method='min',ascending=False).astype(int)\n",
    "grouped_ca_videos_top_categories['rank,dislikes rate'] = grouped_ca_videos_top_categories['dislikes_rate,%'].rank(method='min',ascending=False).astype(int)\n",
    "grouped_ca_videos_top_categories['rank, appreciation'] = grouped_ca_videos_top_categories['appreciation'].rank(method='min').astype(int)\n",
    "grouped_ca_videos_top_categories['total_rank'] = grouped_ca_videos_top_categories['rank,views']+grouped_ca_videos_top_categories['rank,likes']+grouped_ca_videos_top_categories['rank,likes rate']+grouped_ca_videos_top_categories['rank,dislikes']+grouped_ca_videos_top_categories['rank,dislikes rate']+grouped_ca_videos_top_categories['rank, appreciation']\n",
    "grouped_ca_videos_top_categories"
   ]
  },
  {
   "cell_type": "markdown",
   "metadata": {},
   "source": [
    "1) Категория 10 с отрывом самая просматриваемая - 3,53 млн просмотров на видео, она и лидирует по лайкам и дизлайкам\n",
    "2) Категории 1,17,24 и 28 имеют в среднем больше миллиона просмотров\n",
    "3) Только категория 25 имеет менее 500к просмотров на видео\n",
    "4) Категория 23 самая лайкабельная(5,28%), недалеко от нее категории 10(4,28%) и 20(4,16%)\n",
    "5) Наименее лайкабельная категория - 17(1,98%)\n",
    "6) Больше всего доля дизлайков у категории 22(0,29%), у остальных можно сказать что в пределах 0,2%\n",
    "7) Разница между лайками и дизлайками наибольшая у категории 23(5,14%), меньше всего у 25-й (1,83%)\n"
   ]
  },
  {
   "cell_type": "code",
   "execution_count": 98,
   "metadata": {},
   "outputs": [
    {
     "data": {
      "text/html": [
       "<div>\n",
       "<style scoped>\n",
       "    .dataframe tbody tr th:only-of-type {\n",
       "        vertical-align: middle;\n",
       "    }\n",
       "\n",
       "    .dataframe tbody tr th {\n",
       "        vertical-align: top;\n",
       "    }\n",
       "\n",
       "    .dataframe thead th {\n",
       "        text-align: right;\n",
       "    }\n",
       "</style>\n",
       "<table border=\"1\" class=\"dataframe\">\n",
       "  <thead>\n",
       "    <tr style=\"text-align: right;\">\n",
       "      <th></th>\n",
       "      <th>category_id</th>\n",
       "      <th>total_rank</th>\n",
       "    </tr>\n",
       "  </thead>\n",
       "  <tbody>\n",
       "    <tr>\n",
       "      <th>7</th>\n",
       "      <td>25</td>\n",
       "      <td>18</td>\n",
       "    </tr>\n",
       "    <tr>\n",
       "      <th>4</th>\n",
       "      <td>22</td>\n",
       "      <td>25</td>\n",
       "    </tr>\n",
       "    <tr>\n",
       "      <th>6</th>\n",
       "      <td>24</td>\n",
       "      <td>28</td>\n",
       "    </tr>\n",
       "    <tr>\n",
       "      <th>2</th>\n",
       "      <td>17</td>\n",
       "      <td>32</td>\n",
       "    </tr>\n",
       "    <tr>\n",
       "      <th>9</th>\n",
       "      <td>27</td>\n",
       "      <td>36</td>\n",
       "    </tr>\n",
       "    <tr>\n",
       "      <th>8</th>\n",
       "      <td>26</td>\n",
       "      <td>38</td>\n",
       "    </tr>\n",
       "    <tr>\n",
       "      <th>3</th>\n",
       "      <td>20</td>\n",
       "      <td>39</td>\n",
       "    </tr>\n",
       "    <tr>\n",
       "      <th>10</th>\n",
       "      <td>28</td>\n",
       "      <td>39</td>\n",
       "    </tr>\n",
       "    <tr>\n",
       "      <th>0</th>\n",
       "      <td>1</td>\n",
       "      <td>41</td>\n",
       "    </tr>\n",
       "    <tr>\n",
       "      <th>1</th>\n",
       "      <td>10</td>\n",
       "      <td>48</td>\n",
       "    </tr>\n",
       "    <tr>\n",
       "      <th>5</th>\n",
       "      <td>23</td>\n",
       "      <td>52</td>\n",
       "    </tr>\n",
       "  </tbody>\n",
       "</table>\n",
       "</div>"
      ],
      "text/plain": [
       "    category_id  total_rank\n",
       "7            25          18\n",
       "4            22          25\n",
       "6            24          28\n",
       "2            17          32\n",
       "9            27          36\n",
       "8            26          38\n",
       "3            20          39\n",
       "10           28          39\n",
       "0             1          41\n",
       "1            10          48\n",
       "5            23          52"
      ]
     },
     "execution_count": 98,
     "metadata": {},
     "output_type": "execute_result"
    }
   ],
   "source": [
    "grouped_ca_videos_top_categories[['category_id','total_rank']].sort_values(by='total_rank')"
   ]
  },
  {
   "cell_type": "markdown",
   "metadata": {},
   "source": [
    "Создал колонки абсолютной позиции категории среди всех категоий по каждому параметру, и суммировал эти ранки чтобы выбрать три лучших канала по всем параметрам. Будем считать что влияние всех параметров одинаковое. По данным критериям лучшие категории- 25,22 и 24"
   ]
  },
  {
   "cell_type": "markdown",
   "metadata": {},
   "source": [
    "Поизучаем каналы"
   ]
  },
  {
   "cell_type": "code",
   "execution_count": 36,
   "metadata": {},
   "outputs": [
    {
     "data": {
      "text/plain": [
       "5076"
      ]
     },
     "execution_count": 36,
     "metadata": {},
     "output_type": "execute_result"
    }
   ],
   "source": [
    "len(ca_videos['channel_title'].unique())"
   ]
  },
  {
   "cell_type": "markdown",
   "metadata": {},
   "source": [
    "Всего есть 5076 каналов"
   ]
  },
  {
   "cell_type": "markdown",
   "metadata": {},
   "source": [
    "Посмотрим сколько видео есть в каждом канале"
   ]
  },
  {
   "cell_type": "code",
   "execution_count": 124,
   "metadata": {},
   "outputs": [],
   "source": [
    "channel_counts = ca_videos['channel_title'].value_counts()\n",
    "channel_counts_df = pd.DataFrame({'channel': channel_counts.index, 'videos': channel_counts.values}).sort_values(by='videos',ascending=False)"
   ]
  },
  {
   "cell_type": "markdown",
   "metadata": {},
   "source": [
    "Узнаем сколько каналов содержат хотя бы 100 видко"
   ]
  },
  {
   "cell_type": "code",
   "execution_count": 104,
   "metadata": {},
   "outputs": [
    {
     "data": {
      "text/plain": [
       "67"
      ]
     },
     "execution_count": 104,
     "metadata": {},
     "output_type": "execute_result"
    }
   ],
   "source": [
    "сhannels_with_100_more_video = channel_counts_df[channel_counts_df['videos']>=100]\n",
    "сhannels_with_100_more_video.shape[0]"
   ]
  },
  {
   "cell_type": "markdown",
   "metadata": {},
   "source": [
    "Поизучаем 67 каналов со 100 и больше видео"
   ]
  },
  {
   "cell_type": "code",
   "execution_count": 123,
   "metadata": {},
   "outputs": [],
   "source": [
    "list_сhannels_with_100_more_video = сhannels_with_100_more_video['channel'].tolist()"
   ]
  },
  {
   "cell_type": "code",
   "execution_count": 127,
   "metadata": {},
   "outputs": [
    {
     "data": {
      "text/html": [
       "<div>\n",
       "<style scoped>\n",
       "    .dataframe tbody tr th:only-of-type {\n",
       "        vertical-align: middle;\n",
       "    }\n",
       "\n",
       "    .dataframe tbody tr th {\n",
       "        vertical-align: top;\n",
       "    }\n",
       "\n",
       "    .dataframe thead th {\n",
       "        text-align: right;\n",
       "    }\n",
       "</style>\n",
       "<table border=\"1\" class=\"dataframe\">\n",
       "  <thead>\n",
       "    <tr style=\"text-align: right;\">\n",
       "      <th></th>\n",
       "      <th>channel_title</th>\n",
       "      <th>views,mln</th>\n",
       "      <th>likes,thousands</th>\n",
       "      <th>dislikes,thousands</th>\n",
       "      <th>likes_rate,%</th>\n",
       "      <th>dislikes_rate,%</th>\n",
       "      <th>appreciation</th>\n",
       "    </tr>\n",
       "  </thead>\n",
       "  <tbody>\n",
       "    <tr>\n",
       "      <th>35</th>\n",
       "      <td>PewDiePie</td>\n",
       "      <td>4.014787</td>\n",
       "      <td>292.147226</td>\n",
       "      <td>7.845530</td>\n",
       "      <td>7.276780</td>\n",
       "      <td>0.195416</td>\n",
       "      <td>7.081364</td>\n",
       "    </tr>\n",
       "    <tr>\n",
       "      <th>47</th>\n",
       "      <td>Speed Records</td>\n",
       "      <td>3.709608</td>\n",
       "      <td>106.422530</td>\n",
       "      <td>4.999826</td>\n",
       "      <td>2.868835</td>\n",
       "      <td>0.134780</td>\n",
       "      <td>2.734054</td>\n",
       "    </tr>\n",
       "    <tr>\n",
       "      <th>32</th>\n",
       "      <td>MLG Highlights</td>\n",
       "      <td>2.119320</td>\n",
       "      <td>9.566394</td>\n",
       "      <td>5.484176</td>\n",
       "      <td>0.451390</td>\n",
       "      <td>0.258771</td>\n",
       "      <td>0.192619</td>\n",
       "    </tr>\n",
       "    <tr>\n",
       "      <th>52</th>\n",
       "      <td>The Late Late Show with James Corden</td>\n",
       "      <td>2.051301</td>\n",
       "      <td>60.688168</td>\n",
       "      <td>2.307215</td>\n",
       "      <td>2.958520</td>\n",
       "      <td>0.112476</td>\n",
       "      <td>2.846045</td>\n",
       "    </tr>\n",
       "    <tr>\n",
       "      <th>5</th>\n",
       "      <td>BuzzFeedVideo</td>\n",
       "      <td>2.005143</td>\n",
       "      <td>49.235500</td>\n",
       "      <td>2.191937</td>\n",
       "      <td>2.455461</td>\n",
       "      <td>0.109316</td>\n",
       "      <td>2.346145</td>\n",
       "    </tr>\n",
       "  </tbody>\n",
       "</table>\n",
       "</div>"
      ],
      "text/plain": [
       "                           channel_title  views,mln  likes,thousands  \\\n",
       "35                             PewDiePie   4.014787       292.147226   \n",
       "47                         Speed Records   3.709608       106.422530   \n",
       "32                        MLG Highlights   2.119320         9.566394   \n",
       "52  The Late Late Show with James Corden   2.051301        60.688168   \n",
       "5                          BuzzFeedVideo   2.005143        49.235500   \n",
       "\n",
       "    dislikes,thousands  likes_rate,%  dislikes_rate,%  appreciation  \n",
       "35            7.845530      7.276780         0.195416      7.081364  \n",
       "47            4.999826      2.868835         0.134780      2.734054  \n",
       "32            5.484176      0.451390         0.258771      0.192619  \n",
       "52            2.307215      2.958520         0.112476      2.846045  \n",
       "5             2.191937      2.455461         0.109316      2.346145  "
      ]
     },
     "execution_count": 127,
     "metadata": {},
     "output_type": "execute_result"
    }
   ],
   "source": [
    "ca_videos_top_channels = ca_videos[ca_videos['channel_title'].isin(list_сhannels_with_100_more_video)]\n",
    "grouped_ca_videos_top_channels = ca_videos_top_channels.groupby('channel_title').mean()[['views', 'likes', 'dislikes']]\n",
    "grouped_ca_videos_top_channels.reset_index(inplace=True)\n",
    "grouped_ca_videos_top_channels['views'] = grouped_ca_videos_top_channels['views']/1000000\n",
    "grouped_ca_videos_top_channels.rename(columns={'views': 'views,mln'}, inplace=True)\n",
    "grouped_ca_videos_top_channels['likes'] = grouped_ca_videos_top_channels['likes']/1000\n",
    "grouped_ca_videos_top_channels.rename(columns={'likes': 'likes,thousands'}, inplace=True)\n",
    "grouped_ca_videos_top_channels['dislikes'] = grouped_ca_videos_top_channels['dislikes']/1000\n",
    "grouped_ca_videos_top_channels.rename(columns={'dislikes': 'dislikes,thousands'}, inplace=True)\n",
    "grouped_ca_videos_top_channels['likes_rate,%'] = grouped_ca_videos_top_channels['likes,thousands']/grouped_ca_videos_top_channels['views,mln']/10\n",
    "grouped_ca_videos_top_channels['dislikes_rate,%'] = grouped_ca_videos_top_channels['dislikes,thousands']/grouped_ca_videos_top_channels['views,mln']/10\n",
    "grouped_ca_videos_top_channels['appreciation'] = grouped_ca_videos_top_channels['likes_rate,%']-grouped_ca_videos_top_channels['dislikes_rate,%']\n",
    "grouped_ca_videos_top_channels.sort_values(by='views,mln',ascending=False).head(5)"
   ]
  },
  {
   "cell_type": "markdown",
   "metadata": {},
   "source": [
    "5 каналов с наибольшим средним кол-вом просмотров на видео"
   ]
  },
  {
   "cell_type": "code",
   "execution_count": 122,
   "metadata": {},
   "outputs": [
    {
     "data": {
      "text/html": [
       "<div>\n",
       "<style scoped>\n",
       "    .dataframe tbody tr th:only-of-type {\n",
       "        vertical-align: middle;\n",
       "    }\n",
       "\n",
       "    .dataframe tbody tr th {\n",
       "        vertical-align: top;\n",
       "    }\n",
       "\n",
       "    .dataframe thead th {\n",
       "        text-align: right;\n",
       "    }\n",
       "</style>\n",
       "<table border=\"1\" class=\"dataframe\">\n",
       "  <thead>\n",
       "    <tr style=\"text-align: right;\">\n",
       "      <th></th>\n",
       "      <th>channel_title</th>\n",
       "      <th>views,mln</th>\n",
       "      <th>likes,thousands</th>\n",
       "      <th>dislikes,thousands</th>\n",
       "    </tr>\n",
       "  </thead>\n",
       "  <tbody>\n",
       "    <tr>\n",
       "      <th>35</th>\n",
       "      <td>PewDiePie</td>\n",
       "      <td>4.014787</td>\n",
       "      <td>292.147226</td>\n",
       "      <td>7.845530</td>\n",
       "    </tr>\n",
       "    <tr>\n",
       "      <th>47</th>\n",
       "      <td>Speed Records</td>\n",
       "      <td>3.709608</td>\n",
       "      <td>106.422530</td>\n",
       "      <td>4.999826</td>\n",
       "    </tr>\n",
       "    <tr>\n",
       "      <th>15</th>\n",
       "      <td>Dr Nozman</td>\n",
       "      <td>1.067981</td>\n",
       "      <td>75.994760</td>\n",
       "      <td>0.900519</td>\n",
       "    </tr>\n",
       "    <tr>\n",
       "      <th>16</th>\n",
       "      <td>DramaAlert</td>\n",
       "      <td>1.446383</td>\n",
       "      <td>73.553059</td>\n",
       "      <td>4.504673</td>\n",
       "    </tr>\n",
       "    <tr>\n",
       "      <th>36</th>\n",
       "      <td>Philip DeFranco</td>\n",
       "      <td>1.247239</td>\n",
       "      <td>62.628048</td>\n",
       "      <td>1.701796</td>\n",
       "    </tr>\n",
       "  </tbody>\n",
       "</table>\n",
       "</div>"
      ],
      "text/plain": [
       "      channel_title  views,mln  likes,thousands  dislikes,thousands\n",
       "35        PewDiePie   4.014787       292.147226            7.845530\n",
       "47    Speed Records   3.709608       106.422530            4.999826\n",
       "15        Dr Nozman   1.067981        75.994760            0.900519\n",
       "16       DramaAlert   1.446383        73.553059            4.504673\n",
       "36  Philip DeFranco   1.247239        62.628048            1.701796"
      ]
     },
     "execution_count": 122,
     "metadata": {},
     "output_type": "execute_result"
    }
   ],
   "source": [
    "grouped_ca_videos_top_channels.sort_values(by='likes,thousands',ascending=False).head(5)"
   ]
  },
  {
   "cell_type": "markdown",
   "metadata": {},
   "source": [
    "5 каналов с наибольшим средним кол-вом лайков на видео"
   ]
  },
  {
   "cell_type": "code",
   "execution_count": 129,
   "metadata": {},
   "outputs": [
    {
     "data": {
      "text/html": [
       "<div>\n",
       "<style scoped>\n",
       "    .dataframe tbody tr th:only-of-type {\n",
       "        vertical-align: middle;\n",
       "    }\n",
       "\n",
       "    .dataframe tbody tr th {\n",
       "        vertical-align: top;\n",
       "    }\n",
       "\n",
       "    .dataframe thead th {\n",
       "        text-align: right;\n",
       "    }\n",
       "</style>\n",
       "<table border=\"1\" class=\"dataframe\">\n",
       "  <thead>\n",
       "    <tr style=\"text-align: right;\">\n",
       "      <th></th>\n",
       "      <th>channel_title</th>\n",
       "      <th>views,mln</th>\n",
       "      <th>likes,thousands</th>\n",
       "      <th>dislikes,thousands</th>\n",
       "      <th>likes_rate,%</th>\n",
       "      <th>dislikes_rate,%</th>\n",
       "      <th>appreciation</th>\n",
       "    </tr>\n",
       "  </thead>\n",
       "  <tbody>\n",
       "    <tr>\n",
       "      <th>35</th>\n",
       "      <td>PewDiePie</td>\n",
       "      <td>4.014787</td>\n",
       "      <td>292.147226</td>\n",
       "      <td>7.845530</td>\n",
       "      <td>7.276780</td>\n",
       "      <td>0.195416</td>\n",
       "      <td>7.081364</td>\n",
       "    </tr>\n",
       "    <tr>\n",
       "      <th>15</th>\n",
       "      <td>Dr Nozman</td>\n",
       "      <td>1.067981</td>\n",
       "      <td>75.994760</td>\n",
       "      <td>0.900519</td>\n",
       "      <td>7.115740</td>\n",
       "      <td>0.084320</td>\n",
       "      <td>7.031420</td>\n",
       "    </tr>\n",
       "    <tr>\n",
       "      <th>11</th>\n",
       "      <td>Cow Chop</td>\n",
       "      <td>0.189577</td>\n",
       "      <td>12.473450</td>\n",
       "      <td>0.147158</td>\n",
       "      <td>6.579614</td>\n",
       "      <td>0.077624</td>\n",
       "      <td>6.501989</td>\n",
       "    </tr>\n",
       "    <tr>\n",
       "      <th>23</th>\n",
       "      <td>GameGrumps</td>\n",
       "      <td>0.329828</td>\n",
       "      <td>20.365911</td>\n",
       "      <td>0.166644</td>\n",
       "      <td>6.174702</td>\n",
       "      <td>0.050524</td>\n",
       "      <td>6.124177</td>\n",
       "    </tr>\n",
       "    <tr>\n",
       "      <th>16</th>\n",
       "      <td>DramaAlert</td>\n",
       "      <td>1.446383</td>\n",
       "      <td>73.553059</td>\n",
       "      <td>4.504673</td>\n",
       "      <td>5.085311</td>\n",
       "      <td>0.311444</td>\n",
       "      <td>4.773867</td>\n",
       "    </tr>\n",
       "  </tbody>\n",
       "</table>\n",
       "</div>"
      ],
      "text/plain": [
       "   channel_title  views,mln  likes,thousands  dislikes,thousands  \\\n",
       "35     PewDiePie   4.014787       292.147226            7.845530   \n",
       "15     Dr Nozman   1.067981        75.994760            0.900519   \n",
       "11      Cow Chop   0.189577        12.473450            0.147158   \n",
       "23    GameGrumps   0.329828        20.365911            0.166644   \n",
       "16    DramaAlert   1.446383        73.553059            4.504673   \n",
       "\n",
       "    likes_rate,%  dislikes_rate,%  appreciation  \n",
       "35      7.276780         0.195416      7.081364  \n",
       "15      7.115740         0.084320      7.031420  \n",
       "11      6.579614         0.077624      6.501989  \n",
       "23      6.174702         0.050524      6.124177  \n",
       "16      5.085311         0.311444      4.773867  "
      ]
     },
     "execution_count": 129,
     "metadata": {},
     "output_type": "execute_result"
    }
   ],
   "source": [
    "grouped_ca_videos_top_channels.sort_values(by='likes_rate,%',ascending=False).head(5)"
   ]
  },
  {
   "cell_type": "markdown",
   "metadata": {},
   "source": [
    "5 лучших каналов по проценту лайков"
   ]
  },
  {
   "cell_type": "code",
   "execution_count": 130,
   "metadata": {},
   "outputs": [
    {
     "data": {
      "text/html": [
       "<div>\n",
       "<style scoped>\n",
       "    .dataframe tbody tr th:only-of-type {\n",
       "        vertical-align: middle;\n",
       "    }\n",
       "\n",
       "    .dataframe tbody tr th {\n",
       "        vertical-align: top;\n",
       "    }\n",
       "\n",
       "    .dataframe thead th {\n",
       "        text-align: right;\n",
       "    }\n",
       "</style>\n",
       "<table border=\"1\" class=\"dataframe\">\n",
       "  <thead>\n",
       "    <tr style=\"text-align: right;\">\n",
       "      <th></th>\n",
       "      <th>channel_title</th>\n",
       "      <th>views,mln</th>\n",
       "      <th>likes,thousands</th>\n",
       "      <th>dislikes,thousands</th>\n",
       "      <th>likes_rate,%</th>\n",
       "      <th>dislikes_rate,%</th>\n",
       "      <th>appreciation</th>\n",
       "    </tr>\n",
       "  </thead>\n",
       "  <tbody>\n",
       "    <tr>\n",
       "      <th>40</th>\n",
       "      <td>Rapid Highlights</td>\n",
       "      <td>0.394876</td>\n",
       "      <td>1.430925</td>\n",
       "      <td>0.109991</td>\n",
       "      <td>0.362373</td>\n",
       "      <td>0.027854</td>\n",
       "      <td>0.334519</td>\n",
       "    </tr>\n",
       "    <tr>\n",
       "      <th>28</th>\n",
       "      <td>Kitchen Nightmares</td>\n",
       "      <td>0.698014</td>\n",
       "      <td>10.687024</td>\n",
       "      <td>0.207228</td>\n",
       "      <td>1.531062</td>\n",
       "      <td>0.029688</td>\n",
       "      <td>1.501373</td>\n",
       "    </tr>\n",
       "    <tr>\n",
       "      <th>54</th>\n",
       "      <td>The Real Daytime</td>\n",
       "      <td>0.083844</td>\n",
       "      <td>1.325444</td>\n",
       "      <td>0.027632</td>\n",
       "      <td>1.580843</td>\n",
       "      <td>0.032956</td>\n",
       "      <td>1.547887</td>\n",
       "    </tr>\n",
       "    <tr>\n",
       "      <th>0</th>\n",
       "      <td>ABS-CBN Entertainment</td>\n",
       "      <td>0.444265</td>\n",
       "      <td>4.962555</td>\n",
       "      <td>0.163036</td>\n",
       "      <td>1.117026</td>\n",
       "      <td>0.036698</td>\n",
       "      <td>1.080328</td>\n",
       "    </tr>\n",
       "    <tr>\n",
       "      <th>65</th>\n",
       "      <td>大劇獨播</td>\n",
       "      <td>0.103089</td>\n",
       "      <td>0.130983</td>\n",
       "      <td>0.038216</td>\n",
       "      <td>0.127058</td>\n",
       "      <td>0.037071</td>\n",
       "      <td>0.089988</td>\n",
       "    </tr>\n",
       "  </tbody>\n",
       "</table>\n",
       "</div>"
      ],
      "text/plain": [
       "            channel_title  views,mln  likes,thousands  dislikes,thousands  \\\n",
       "40       Rapid Highlights   0.394876         1.430925            0.109991   \n",
       "28     Kitchen Nightmares   0.698014        10.687024            0.207228   \n",
       "54       The Real Daytime   0.083844         1.325444            0.027632   \n",
       "0   ABS-CBN Entertainment   0.444265         4.962555            0.163036   \n",
       "65                   大劇獨播   0.103089         0.130983            0.038216   \n",
       "\n",
       "    likes_rate,%  dislikes_rate,%  appreciation  \n",
       "40      0.362373         0.027854      0.334519  \n",
       "28      1.531062         0.029688      1.501373  \n",
       "54      1.580843         0.032956      1.547887  \n",
       "0       1.117026         0.036698      1.080328  \n",
       "65      0.127058         0.037071      0.089988  "
      ]
     },
     "execution_count": 130,
     "metadata": {},
     "output_type": "execute_result"
    }
   ],
   "source": [
    "grouped_ca_videos_top_channels.sort_values(by='dislikes_rate,%',ascending=True).head(5)"
   ]
  },
  {
   "cell_type": "markdown",
   "metadata": {},
   "source": [
    "5 лучших каналов по проценту дизлайков(чем меньше тем лучше)"
   ]
  },
  {
   "cell_type": "code",
   "execution_count": 132,
   "metadata": {},
   "outputs": [
    {
     "data": {
      "text/html": [
       "<div>\n",
       "<style scoped>\n",
       "    .dataframe tbody tr th:only-of-type {\n",
       "        vertical-align: middle;\n",
       "    }\n",
       "\n",
       "    .dataframe tbody tr th {\n",
       "        vertical-align: top;\n",
       "    }\n",
       "\n",
       "    .dataframe thead th {\n",
       "        text-align: right;\n",
       "    }\n",
       "</style>\n",
       "<table border=\"1\" class=\"dataframe\">\n",
       "  <thead>\n",
       "    <tr style=\"text-align: right;\">\n",
       "      <th></th>\n",
       "      <th>channel_title</th>\n",
       "      <th>views,mln</th>\n",
       "      <th>likes,thousands</th>\n",
       "      <th>dislikes,thousands</th>\n",
       "      <th>likes_rate,%</th>\n",
       "      <th>dislikes_rate,%</th>\n",
       "      <th>appreciation</th>\n",
       "    </tr>\n",
       "  </thead>\n",
       "  <tbody>\n",
       "    <tr>\n",
       "      <th>35</th>\n",
       "      <td>PewDiePie</td>\n",
       "      <td>4.014787</td>\n",
       "      <td>292.147226</td>\n",
       "      <td>7.845530</td>\n",
       "      <td>7.276780</td>\n",
       "      <td>0.195416</td>\n",
       "      <td>7.081364</td>\n",
       "    </tr>\n",
       "    <tr>\n",
       "      <th>15</th>\n",
       "      <td>Dr Nozman</td>\n",
       "      <td>1.067981</td>\n",
       "      <td>75.994760</td>\n",
       "      <td>0.900519</td>\n",
       "      <td>7.115740</td>\n",
       "      <td>0.084320</td>\n",
       "      <td>7.031420</td>\n",
       "    </tr>\n",
       "    <tr>\n",
       "      <th>11</th>\n",
       "      <td>Cow Chop</td>\n",
       "      <td>0.189577</td>\n",
       "      <td>12.473450</td>\n",
       "      <td>0.147158</td>\n",
       "      <td>6.579614</td>\n",
       "      <td>0.077624</td>\n",
       "      <td>6.501989</td>\n",
       "    </tr>\n",
       "    <tr>\n",
       "      <th>23</th>\n",
       "      <td>GameGrumps</td>\n",
       "      <td>0.329828</td>\n",
       "      <td>20.365911</td>\n",
       "      <td>0.166644</td>\n",
       "      <td>6.174702</td>\n",
       "      <td>0.050524</td>\n",
       "      <td>6.124177</td>\n",
       "    </tr>\n",
       "    <tr>\n",
       "      <th>36</th>\n",
       "      <td>Philip DeFranco</td>\n",
       "      <td>1.247239</td>\n",
       "      <td>62.628048</td>\n",
       "      <td>1.701796</td>\n",
       "      <td>5.021334</td>\n",
       "      <td>0.136445</td>\n",
       "      <td>4.884889</td>\n",
       "    </tr>\n",
       "  </tbody>\n",
       "</table>\n",
       "</div>"
      ],
      "text/plain": [
       "      channel_title  views,mln  likes,thousands  dislikes,thousands  \\\n",
       "35        PewDiePie   4.014787       292.147226            7.845530   \n",
       "15        Dr Nozman   1.067981        75.994760            0.900519   \n",
       "11         Cow Chop   0.189577        12.473450            0.147158   \n",
       "23       GameGrumps   0.329828        20.365911            0.166644   \n",
       "36  Philip DeFranco   1.247239        62.628048            1.701796   \n",
       "\n",
       "    likes_rate,%  dislikes_rate,%  appreciation  \n",
       "35      7.276780         0.195416      7.081364  \n",
       "15      7.115740         0.084320      7.031420  \n",
       "11      6.579614         0.077624      6.501989  \n",
       "23      6.174702         0.050524      6.124177  \n",
       "36      5.021334         0.136445      4.884889  "
      ]
     },
     "execution_count": 132,
     "metadata": {},
     "output_type": "execute_result"
    }
   ],
   "source": [
    "grouped_ca_videos_top_channels.sort_values(by='appreciation',ascending=False).head(5)"
   ]
  },
  {
   "cell_type": "markdown",
   "metadata": {},
   "source": [
    " 5 лучших каналов по разнице лайков и дизлайков. Заметим, что 4 из 5 каналов входят в топ-5 и по проценту лайков. Большой процент лайков более вероятно приведет в топ по разнице. Это потому что люди чаще лайкают чем дизлайкают. "
   ]
  },
  {
   "cell_type": "markdown",
   "metadata": {},
   "source": [
    "Гипотеза -1. На просматриваемость канала влияет количество видео в канале. Так как чаще рекомендует одно видео при просмотре другого с того же канала. Давайте проверим."
   ]
  },
  {
   "cell_type": "code",
   "execution_count": 133,
   "metadata": {},
   "outputs": [
    {
     "data": {
      "text/html": [
       "<div>\n",
       "<style scoped>\n",
       "    .dataframe tbody tr th:only-of-type {\n",
       "        vertical-align: middle;\n",
       "    }\n",
       "\n",
       "    .dataframe tbody tr th {\n",
       "        vertical-align: top;\n",
       "    }\n",
       "\n",
       "    .dataframe thead th {\n",
       "        text-align: right;\n",
       "    }\n",
       "</style>\n",
       "<table border=\"1\" class=\"dataframe\">\n",
       "  <thead>\n",
       "    <tr style=\"text-align: right;\">\n",
       "      <th></th>\n",
       "      <th>video_id</th>\n",
       "      <th>trending_date</th>\n",
       "      <th>title</th>\n",
       "      <th>channel_title</th>\n",
       "      <th>category_id</th>\n",
       "      <th>publish_time</th>\n",
       "      <th>tags</th>\n",
       "      <th>views</th>\n",
       "      <th>likes</th>\n",
       "      <th>dislikes</th>\n",
       "      <th>comment_count</th>\n",
       "      <th>thumbnail_link</th>\n",
       "      <th>comments_disabled</th>\n",
       "      <th>ratings_disabled</th>\n",
       "      <th>video_error_or_removed</th>\n",
       "      <th>description</th>\n",
       "    </tr>\n",
       "  </thead>\n",
       "  <tbody>\n",
       "    <tr>\n",
       "      <th>5</th>\n",
       "      <td>0yIWz1XEeyc</td>\n",
       "      <td>17.14.11</td>\n",
       "      <td>Jake Paul Says Alissa Violet CHEATED with LOGA...</td>\n",
       "      <td>DramaAlert</td>\n",
       "      <td>25</td>\n",
       "      <td>2017-11-13T07:37:51.000Z</td>\n",
       "      <td>#DramaAlert|\"Drama\"|\"Alert\"|\"DramaAlert\"|\"keem...</td>\n",
       "      <td>1309699</td>\n",
       "      <td>103755</td>\n",
       "      <td>4613</td>\n",
       "      <td>12143</td>\n",
       "      <td>https://i.ytimg.com/vi/0yIWz1XEeyc/default.jpg</td>\n",
       "      <td>False</td>\n",
       "      <td>False</td>\n",
       "      <td>False</td>\n",
       "      <td>► Follow for News! - https://twitter.com/KEEMS...</td>\n",
       "    </tr>\n",
       "  </tbody>\n",
       "</table>\n",
       "</div>"
      ],
      "text/plain": [
       "      video_id trending_date  \\\n",
       "5  0yIWz1XEeyc      17.14.11   \n",
       "\n",
       "                                               title channel_title  \\\n",
       "5  Jake Paul Says Alissa Violet CHEATED with LOGA...    DramaAlert   \n",
       "\n",
       "   category_id              publish_time  \\\n",
       "5           25  2017-11-13T07:37:51.000Z   \n",
       "\n",
       "                                                tags    views   likes  \\\n",
       "5  #DramaAlert|\"Drama\"|\"Alert\"|\"DramaAlert\"|\"keem...  1309699  103755   \n",
       "\n",
       "   dislikes  comment_count                                  thumbnail_link  \\\n",
       "5      4613          12143  https://i.ytimg.com/vi/0yIWz1XEeyc/default.jpg   \n",
       "\n",
       "   comments_disabled  ratings_disabled  video_error_or_removed  \\\n",
       "5              False             False                   False   \n",
       "\n",
       "                                         description  \n",
       "5  ► Follow for News! - https://twitter.com/KEEMS...  "
      ]
     },
     "execution_count": 133,
     "metadata": {},
     "output_type": "execute_result"
    }
   ],
   "source": [
    "ca_videos_top_channels.head(1)"
   ]
  },
  {
   "cell_type": "code",
   "execution_count": 141,
   "metadata": {},
   "outputs": [
    {
     "data": {
      "text/html": [
       "<div>\n",
       "<style scoped>\n",
       "    .dataframe tbody tr th:only-of-type {\n",
       "        vertical-align: middle;\n",
       "    }\n",
       "\n",
       "    .dataframe tbody tr th {\n",
       "        vertical-align: top;\n",
       "    }\n",
       "\n",
       "    .dataframe thead th {\n",
       "        text-align: right;\n",
       "    }\n",
       "</style>\n",
       "<table border=\"1\" class=\"dataframe\">\n",
       "  <thead>\n",
       "    <tr style=\"text-align: right;\">\n",
       "      <th></th>\n",
       "      <th>channel_title</th>\n",
       "      <th>mean_views</th>\n",
       "      <th>number_videos</th>\n",
       "    </tr>\n",
       "  </thead>\n",
       "  <tbody>\n",
       "    <tr>\n",
       "      <th>0</th>\n",
       "      <td>ABS-CBN Entertainment</td>\n",
       "      <td>4.442650e+05</td>\n",
       "      <td>110</td>\n",
       "    </tr>\n",
       "    <tr>\n",
       "      <th>1</th>\n",
       "      <td>ARY Digital</td>\n",
       "      <td>3.694249e+05</td>\n",
       "      <td>168</td>\n",
       "    </tr>\n",
       "    <tr>\n",
       "      <th>2</th>\n",
       "      <td>Binging with Babish</td>\n",
       "      <td>9.104847e+05</td>\n",
       "      <td>115</td>\n",
       "    </tr>\n",
       "    <tr>\n",
       "      <th>3</th>\n",
       "      <td>Breakfast Club Power 105.1 FM</td>\n",
       "      <td>7.476652e+05</td>\n",
       "      <td>149</td>\n",
       "    </tr>\n",
       "    <tr>\n",
       "      <th>4</th>\n",
       "      <td>BuzzFeedBlue</td>\n",
       "      <td>1.197950e+06</td>\n",
       "      <td>143</td>\n",
       "    </tr>\n",
       "  </tbody>\n",
       "</table>\n",
       "</div>"
      ],
      "text/plain": [
       "                   channel_title    mean_views  number_videos\n",
       "0          ABS-CBN Entertainment  4.442650e+05            110\n",
       "1                    ARY Digital  3.694249e+05            168\n",
       "2            Binging with Babish  9.104847e+05            115\n",
       "3  Breakfast Club Power 105.1 FM  7.476652e+05            149\n",
       "4                   BuzzFeedBlue  1.197950e+06            143"
      ]
     },
     "execution_count": 141,
     "metadata": {},
     "output_type": "execute_result"
    }
   ],
   "source": [
    "channels_views_and_videos = ca_videos_top_channels.groupby('channel_title').agg({'views': 'mean', 'video_id': 'count'})\n",
    "channels_views_and_videos.reset_index(inplace = True)\n",
    "channels_views_and_videos.rename(columns={'views': 'mean_views'}, inplace=True)\n",
    "channels_views_and_videos.rename(columns={'video_id': 'number_videos'}, inplace=True)\n",
    "channels_views_and_videos.head()"
   ]
  },
  {
   "cell_type": "code",
   "execution_count": 143,
   "metadata": {},
   "outputs": [
    {
     "data": {
      "text/plain": [
       "-0.07797796304490455"
      ]
     },
     "execution_count": 143,
     "metadata": {},
     "output_type": "execute_result"
    }
   ],
   "source": [
    "correlation = channels_views_and_videos['mean_views'].corr(channels_views_and_videos['number_videos'])\n",
    "correlation"
   ]
  },
  {
   "cell_type": "code",
   "execution_count": 145,
   "metadata": {},
   "outputs": [
    {
     "data": {
      "image/png": "[encoded data removed]",
      "text/plain": [
       "<Figure size 576x432 with 1 Axes>"
      ]
     },
     "metadata": {
      "needs_background": "light"
     },
     "output_type": "display_data"
    }
   ],
   "source": [
    "plt.figure(figsize=(8, 6))\n",
    "plt.scatter(channels_views_and_videos['mean_views'], channels_views_and_videos['number_videos'], color='blue')\n",
    "plt.title('Scatter Plot of mean_views vs number_videos')\n",
    "plt.xlabel('mean_views')\n",
    "plt.ylabel('number_videos')\n",
    "plt.grid(True)\n",
    "plt.show()"
   ]
  },
  {
   "cell_type": "markdown",
   "metadata": {},
   "source": [
    "Как видим, гипотеза не подтвердилась даже близко. Но тут мы может увидеть интересную вещь - есть два явно выделяющихся канала с выскоим значением средних просмторов и низким количеством видео. Из таблицы топ-5 по средним просмотрам видем, что это каналы PewDiePie и Speed Records. Назовем эти каналы качественными"
   ]
  },
  {
   "cell_type": "markdown",
   "metadata": {},
   "source": [
    "Может попробуем обратную гипотезу, чем меньше видео, тем больше средних просмотров, так как меньшим количеством повышается качество видео"
   ]
  },
  {
   "cell_type": "code",
   "execution_count": 147,
   "metadata": {},
   "outputs": [
    {
     "data": {
      "text/html": [
       "<div>\n",
       "<style scoped>\n",
       "    .dataframe tbody tr th:only-of-type {\n",
       "        vertical-align: middle;\n",
       "    }\n",
       "\n",
       "    .dataframe tbody tr th {\n",
       "        vertical-align: top;\n",
       "    }\n",
       "\n",
       "    .dataframe thead th {\n",
       "        text-align: right;\n",
       "    }\n",
       "</style>\n",
       "<table border=\"1\" class=\"dataframe\">\n",
       "  <thead>\n",
       "    <tr style=\"text-align: right;\">\n",
       "      <th></th>\n",
       "      <th>channel_title</th>\n",
       "      <th>mean_views</th>\n",
       "      <th>number_videos</th>\n",
       "      <th>number_videos_reciprocal</th>\n",
       "    </tr>\n",
       "  </thead>\n",
       "  <tbody>\n",
       "    <tr>\n",
       "      <th>0</th>\n",
       "      <td>ABS-CBN Entertainment</td>\n",
       "      <td>444264.954545</td>\n",
       "      <td>110</td>\n",
       "      <td>0.009091</td>\n",
       "    </tr>\n",
       "    <tr>\n",
       "      <th>1</th>\n",
       "      <td>ARY Digital</td>\n",
       "      <td>369424.940476</td>\n",
       "      <td>168</td>\n",
       "      <td>0.005952</td>\n",
       "    </tr>\n",
       "    <tr>\n",
       "      <th>2</th>\n",
       "      <td>Binging with Babish</td>\n",
       "      <td>910484.721739</td>\n",
       "      <td>115</td>\n",
       "      <td>0.008696</td>\n",
       "    </tr>\n",
       "  </tbody>\n",
       "</table>\n",
       "</div>"
      ],
      "text/plain": [
       "           channel_title     mean_views  number_videos  \\\n",
       "0  ABS-CBN Entertainment  444264.954545            110   \n",
       "1            ARY Digital  369424.940476            168   \n",
       "2    Binging with Babish  910484.721739            115   \n",
       "\n",
       "   number_videos_reciprocal  \n",
       "0                  0.009091  \n",
       "1                  0.005952  \n",
       "2                  0.008696  "
      ]
     },
     "execution_count": 147,
     "metadata": {},
     "output_type": "execute_result"
    }
   ],
   "source": [
    "channels_views_and_videos['number_videos_reciprocal'] = 1/channels_views_and_videos['number_videos']\n",
    "channels_views_and_videos.head(3)"
   ]
  },
  {
   "cell_type": "code",
   "execution_count": 148,
   "metadata": {},
   "outputs": [
    {
     "data": {
      "text/plain": [
       "0.06221873392533204"
      ]
     },
     "execution_count": 148,
     "metadata": {},
     "output_type": "execute_result"
    }
   ],
   "source": [
    "correlation = channels_views_and_videos['mean_views'].corr(channels_views_and_videos['number_videos_reciprocal'])\n",
    "correlation"
   ]
  },
  {
   "cell_type": "code",
   "execution_count": 151,
   "metadata": {},
   "outputs": [
    {
     "data": {
      "image/png": "[encoded data removed]",
      "text/plain": [
       "<Figure size 576x432 with 1 Axes>"
      ]
     },
     "metadata": {
      "needs_background": "light"
     },
     "output_type": "display_data"
    }
   ],
   "source": [
    "plt.figure(figsize=(8, 6))\n",
    "plt.scatter(channels_views_and_videos['mean_views'], channels_views_and_videos['number_videos_reciprocal'], color='blue')\n",
    "plt.title('Scatter Plot of mean_views vs number_videos')\n",
    "plt.xlabel('mean_views')\n",
    "plt.ylabel('number_videos_reciprocal')\n",
    "plt.grid(True)\n",
    "plt.show()"
   ]
  },
  {
   "cell_type": "markdown",
   "metadata": {},
   "source": [
    "Так же неверная гипотеза, в принципе это было понятно и по первому скаттерплоту. Может пробовать не другую функцию?"
   ]
  },
  {
   "cell_type": "markdown",
   "metadata": {},
   "source": [
    "Давайте поизучаем в скольких и каких категориях видео представлены каналы. Оставим только каналы  со 100 и больше видео"
   ]
  },
  {
   "cell_type": "code",
   "execution_count": 156,
   "metadata": {},
   "outputs": [
    {
     "data": {
      "text/html": [
       "<div>\n",
       "<style scoped>\n",
       "    .dataframe tbody tr th:only-of-type {\n",
       "        vertical-align: middle;\n",
       "    }\n",
       "\n",
       "    .dataframe tbody tr th {\n",
       "        vertical-align: top;\n",
       "    }\n",
       "\n",
       "    .dataframe thead th {\n",
       "        text-align: right;\n",
       "    }\n",
       "</style>\n",
       "<table border=\"1\" class=\"dataframe\">\n",
       "  <thead>\n",
       "    <tr style=\"text-align: right;\">\n",
       "      <th></th>\n",
       "      <th>video_id</th>\n",
       "      <th>trending_date</th>\n",
       "      <th>title</th>\n",
       "      <th>channel_title</th>\n",
       "      <th>category_id</th>\n",
       "      <th>publish_time</th>\n",
       "      <th>tags</th>\n",
       "      <th>views</th>\n",
       "      <th>likes</th>\n",
       "      <th>dislikes</th>\n",
       "      <th>comment_count</th>\n",
       "      <th>thumbnail_link</th>\n",
       "      <th>comments_disabled</th>\n",
       "      <th>ratings_disabled</th>\n",
       "      <th>video_error_or_removed</th>\n",
       "      <th>description</th>\n",
       "    </tr>\n",
       "  </thead>\n",
       "  <tbody>\n",
       "    <tr>\n",
       "      <th>5</th>\n",
       "      <td>0yIWz1XEeyc</td>\n",
       "      <td>17.14.11</td>\n",
       "      <td>Jake Paul Says Alissa Violet CHEATED with LOGA...</td>\n",
       "      <td>DramaAlert</td>\n",
       "      <td>25</td>\n",
       "      <td>2017-11-13T07:37:51.000Z</td>\n",
       "      <td>#DramaAlert|\"Drama\"|\"Alert\"|\"DramaAlert\"|\"keem...</td>\n",
       "      <td>1309699</td>\n",
       "      <td>103755</td>\n",
       "      <td>4613</td>\n",
       "      <td>12143</td>\n",
       "      <td>https://i.ytimg.com/vi/0yIWz1XEeyc/default.jpg</td>\n",
       "      <td>False</td>\n",
       "      <td>False</td>\n",
       "      <td>False</td>\n",
       "      <td>► Follow for News! - https://twitter.com/KEEMS...</td>\n",
       "    </tr>\n",
       "    <tr>\n",
       "      <th>11</th>\n",
       "      <td>U3xLOo-CNwo</td>\n",
       "      <td>17.14.11</td>\n",
       "      <td>12 Weird Ways To Sneak Food Into Class / Back ...</td>\n",
       "      <td>Troom Troom</td>\n",
       "      <td>26</td>\n",
       "      <td>2017-11-12T15:00:05.000Z</td>\n",
       "      <td>sneak food|\"how to sneak food into class\"|\"cla...</td>\n",
       "      <td>3153224</td>\n",
       "      <td>28451</td>\n",
       "      <td>2285</td>\n",
       "      <td>3312</td>\n",
       "      <td>https://i.ytimg.com/vi/U3xLOo-CNwo/default.jpg</td>\n",
       "      <td>False</td>\n",
       "      <td>False</td>\n",
       "      <td>False</td>\n",
       "      <td>Subscribe Here: http://bit.ly/2uaz0on\\n12 Hot ...</td>\n",
       "    </tr>\n",
       "    <tr>\n",
       "      <th>12</th>\n",
       "      <td>FyZMnhUtLfE</td>\n",
       "      <td>17.14.11</td>\n",
       "      <td>猎场 | Game Of Hunting 12【TV版】（胡歌、張嘉譯、祖峰等主演）</td>\n",
       "      <td>大劇獨播</td>\n",
       "      <td>1</td>\n",
       "      <td>2017-11-12T16:00:01.000Z</td>\n",
       "      <td>電視劇|\"大陸電視劇\"|\"猎场\"|\"职场\"|\"商战\"|\"爱情\"|\"都市\"|\"胡歌\"|\"陈龙\"...</td>\n",
       "      <td>158815</td>\n",
       "      <td>218</td>\n",
       "      <td>30</td>\n",
       "      <td>186</td>\n",
       "      <td>https://i.ytimg.com/vi/FyZMnhUtLfE/default.jpg</td>\n",
       "      <td>False</td>\n",
       "      <td>False</td>\n",
       "      <td>False</td>\n",
       "      <td>Thanks for watching the drama! Help more peopl...</td>\n",
       "    </tr>\n",
       "  </tbody>\n",
       "</table>\n",
       "</div>"
      ],
      "text/plain": [
       "       video_id trending_date  \\\n",
       "5   0yIWz1XEeyc      17.14.11   \n",
       "11  U3xLOo-CNwo      17.14.11   \n",
       "12  FyZMnhUtLfE      17.14.11   \n",
       "\n",
       "                                                title channel_title  \\\n",
       "5   Jake Paul Says Alissa Violet CHEATED with LOGA...    DramaAlert   \n",
       "11  12 Weird Ways To Sneak Food Into Class / Back ...   Troom Troom   \n",
       "12         猎场 | Game Of Hunting 12【TV版】（胡歌、張嘉譯、祖峰等主演）          大劇獨播   \n",
       "\n",
       "    category_id              publish_time  \\\n",
       "5            25  2017-11-13T07:37:51.000Z   \n",
       "11           26  2017-11-12T15:00:05.000Z   \n",
       "12            1  2017-11-12T16:00:01.000Z   \n",
       "\n",
       "                                                 tags    views   likes  \\\n",
       "5   #DramaAlert|\"Drama\"|\"Alert\"|\"DramaAlert\"|\"keem...  1309699  103755   \n",
       "11  sneak food|\"how to sneak food into class\"|\"cla...  3153224   28451   \n",
       "12  電視劇|\"大陸電視劇\"|\"猎场\"|\"职场\"|\"商战\"|\"爱情\"|\"都市\"|\"胡歌\"|\"陈龙\"...   158815     218   \n",
       "\n",
       "    dislikes  comment_count                                  thumbnail_link  \\\n",
       "5       4613          12143  https://i.ytimg.com/vi/0yIWz1XEeyc/default.jpg   \n",
       "11      2285           3312  https://i.ytimg.com/vi/U3xLOo-CNwo/default.jpg   \n",
       "12        30            186  https://i.ytimg.com/vi/FyZMnhUtLfE/default.jpg   \n",
       "\n",
       "    comments_disabled  ratings_disabled  video_error_or_removed  \\\n",
       "5               False             False                   False   \n",
       "11              False             False                   False   \n",
       "12              False             False                   False   \n",
       "\n",
       "                                          description  \n",
       "5   ► Follow for News! - https://twitter.com/KEEMS...  \n",
       "11  Subscribe Here: http://bit.ly/2uaz0on\\n12 Hot ...  \n",
       "12  Thanks for watching the drama! Help more peopl...  "
      ]
     },
     "execution_count": 156,
     "metadata": {},
     "output_type": "execute_result"
    }
   ],
   "source": [
    "ca_videos_top_channels.head(3)"
   ]
  },
  {
   "cell_type": "code",
   "execution_count": 160,
   "metadata": {},
   "outputs": [],
   "source": [
    "channels_in_categories = ca_videos_top_channels.groupby('channel_title').agg({'category_id': 'nunique', 'views': 'mean'})"
   ]
  },
  {
   "cell_type": "code",
   "execution_count": 161,
   "metadata": {},
   "outputs": [],
   "source": [
    "channels_in_categories.reset_index(inplace=True)"
   ]
  },
  {
   "cell_type": "code",
   "execution_count": 162,
   "metadata": {},
   "outputs": [
    {
     "data": {
      "text/html": [
       "<div>\n",
       "<style scoped>\n",
       "    .dataframe tbody tr th:only-of-type {\n",
       "        vertical-align: middle;\n",
       "    }\n",
       "\n",
       "    .dataframe tbody tr th {\n",
       "        vertical-align: top;\n",
       "    }\n",
       "\n",
       "    .dataframe thead th {\n",
       "        text-align: right;\n",
       "    }\n",
       "</style>\n",
       "<table border=\"1\" class=\"dataframe\">\n",
       "  <thead>\n",
       "    <tr style=\"text-align: right;\">\n",
       "      <th></th>\n",
       "      <th>channel_title</th>\n",
       "      <th>category_id</th>\n",
       "      <th>views</th>\n",
       "    </tr>\n",
       "  </thead>\n",
       "  <tbody>\n",
       "    <tr>\n",
       "      <th>0</th>\n",
       "      <td>ABS-CBN Entertainment</td>\n",
       "      <td>1</td>\n",
       "      <td>4.442650e+05</td>\n",
       "    </tr>\n",
       "    <tr>\n",
       "      <th>1</th>\n",
       "      <td>ARY Digital</td>\n",
       "      <td>1</td>\n",
       "      <td>3.694249e+05</td>\n",
       "    </tr>\n",
       "    <tr>\n",
       "      <th>2</th>\n",
       "      <td>Binging with Babish</td>\n",
       "      <td>1</td>\n",
       "      <td>9.104847e+05</td>\n",
       "    </tr>\n",
       "    <tr>\n",
       "      <th>3</th>\n",
       "      <td>Breakfast Club Power 105.1 FM</td>\n",
       "      <td>1</td>\n",
       "      <td>7.476652e+05</td>\n",
       "    </tr>\n",
       "    <tr>\n",
       "      <th>4</th>\n",
       "      <td>BuzzFeedBlue</td>\n",
       "      <td>1</td>\n",
       "      <td>1.197950e+06</td>\n",
       "    </tr>\n",
       "    <tr>\n",
       "      <th>...</th>\n",
       "      <td>...</td>\n",
       "      <td>...</td>\n",
       "      <td>...</td>\n",
       "    </tr>\n",
       "    <tr>\n",
       "      <th>62</th>\n",
       "      <td>Vox</td>\n",
       "      <td>1</td>\n",
       "      <td>5.530558e+05</td>\n",
       "    </tr>\n",
       "    <tr>\n",
       "      <th>63</th>\n",
       "      <td>WWE</td>\n",
       "      <td>1</td>\n",
       "      <td>1.750773e+06</td>\n",
       "    </tr>\n",
       "    <tr>\n",
       "      <th>64</th>\n",
       "      <td>secureteam10</td>\n",
       "      <td>1</td>\n",
       "      <td>3.676837e+05</td>\n",
       "    </tr>\n",
       "    <tr>\n",
       "      <th>65</th>\n",
       "      <td>大劇獨播</td>\n",
       "      <td>1</td>\n",
       "      <td>1.030886e+05</td>\n",
       "    </tr>\n",
       "    <tr>\n",
       "      <th>66</th>\n",
       "      <td>湖南卫视芒果TV官方频道 China HunanTV Official Channel</td>\n",
       "      <td>1</td>\n",
       "      <td>5.404308e+05</td>\n",
       "    </tr>\n",
       "  </tbody>\n",
       "</table>\n",
       "<p>67 rows × 3 columns</p>\n",
       "</div>"
      ],
      "text/plain": [
       "                                  channel_title  category_id         views\n",
       "0                         ABS-CBN Entertainment            1  4.442650e+05\n",
       "1                                   ARY Digital            1  3.694249e+05\n",
       "2                           Binging with Babish            1  9.104847e+05\n",
       "3                 Breakfast Club Power 105.1 FM            1  7.476652e+05\n",
       "4                                  BuzzFeedBlue            1  1.197950e+06\n",
       "..                                          ...          ...           ...\n",
       "62                                          Vox            1  5.530558e+05\n",
       "63                                          WWE            1  1.750773e+06\n",
       "64                                 secureteam10            1  3.676837e+05\n",
       "65                                         大劇獨播            1  1.030886e+05\n",
       "66  湖南卫视芒果TV官方频道 China HunanTV Official Channel            1  5.404308e+05\n",
       "\n",
       "[67 rows x 3 columns]"
      ]
     },
     "execution_count": 162,
     "metadata": {},
     "output_type": "execute_result"
    }
   ],
   "source": [
    "channels_in_categories"
   ]
  },
  {
   "cell_type": "code",
   "execution_count": 163,
   "metadata": {},
   "outputs": [
    {
     "data": {
      "text/plain": [
       "1    49\n",
       "2    15\n",
       "3     2\n",
       "8     1\n",
       "Name: category_id, dtype: int64"
      ]
     },
     "execution_count": 163,
     "metadata": {},
     "output_type": "execute_result"
    }
   ],
   "source": [
    "channels_in_categories['category_id'].value_counts()"
   ]
  },
  {
   "cell_type": "code",
   "execution_count": 167,
   "metadata": {},
   "outputs": [
    {
     "data": {
      "image/png": "[encoded data removed]",
      "text/plain": [
       "<Figure size 576x432 with 1 Axes>"
      ]
     },
     "metadata": {
      "needs_background": "light"
     },
     "output_type": "display_data"
    }
   ],
   "source": [
    "plt.figure(figsize=(8, 6))\n",
    "plt.scatter(channels_in_categories['category_id'], channels_in_categories['views'], color='blue')\n",
    "plt.title('Scatter Plot of mean_views vs number_categories')\n",
    "plt.xlabel('number_categories')\n",
    "plt.ylabel('mean_views')\n",
    "plt.grid(True)\n",
    "plt.show()"
   ]
  },
  {
   "cell_type": "markdown",
   "metadata": {},
   "source": [
    "В основном все каналы представлены в 1 или 2 категориях, и на успешность канала приверженность одной категории не влияет"
   ]
  },
  {
   "cell_type": "code",
   "execution_count": 196,
   "metadata": {},
   "outputs": [],
   "source": [
    "CAvideos['publish_time'] = pd.to_datetime(CAvideos['publish_time'])\n",
    "CAvideos['year'] = CAvideos['publish_time'].dt.year\n",
    "CAvideos['month'] = CAvideos['publish_time'].dt.month"
   ]
  },
  {
   "cell_type": "code",
   "execution_count": 202,
   "metadata": {},
   "outputs": [],
   "source": [
    "CAvideos_2017 = CAvideos[CAvideos['year']==2017]"
   ]
  },
  {
   "cell_type": "code",
   "execution_count": 203,
   "metadata": {},
   "outputs": [
    {
     "data": {
      "text/html": [
       "<div>\n",
       "<style scoped>\n",
       "    .dataframe tbody tr th:only-of-type {\n",
       "        vertical-align: middle;\n",
       "    }\n",
       "\n",
       "    .dataframe tbody tr th {\n",
       "        vertical-align: top;\n",
       "    }\n",
       "\n",
       "    .dataframe thead th {\n",
       "        text-align: right;\n",
       "    }\n",
       "</style>\n",
       "<table border=\"1\" class=\"dataframe\">\n",
       "  <thead>\n",
       "    <tr style=\"text-align: right;\">\n",
       "      <th></th>\n",
       "      <th>month</th>\n",
       "      <th>category_id</th>\n",
       "      <th>views</th>\n",
       "    </tr>\n",
       "  </thead>\n",
       "  <tbody>\n",
       "    <tr>\n",
       "      <th>0</th>\n",
       "      <td>4</td>\n",
       "      <td>4</td>\n",
       "      <td>1.917065e+05</td>\n",
       "    </tr>\n",
       "    <tr>\n",
       "      <th>1</th>\n",
       "      <td>5</td>\n",
       "      <td>2</td>\n",
       "      <td>4.722605e+05</td>\n",
       "    </tr>\n",
       "    <tr>\n",
       "      <th>2</th>\n",
       "      <td>8</td>\n",
       "      <td>5</td>\n",
       "      <td>2.493464e+05</td>\n",
       "    </tr>\n",
       "    <tr>\n",
       "      <th>3</th>\n",
       "      <td>9</td>\n",
       "      <td>11</td>\n",
       "      <td>6.837607e+05</td>\n",
       "    </tr>\n",
       "    <tr>\n",
       "      <th>4</th>\n",
       "      <td>10</td>\n",
       "      <td>6</td>\n",
       "      <td>3.647794e+06</td>\n",
       "    </tr>\n",
       "    <tr>\n",
       "      <th>5</th>\n",
       "      <td>11</td>\n",
       "      <td>3755</td>\n",
       "      <td>1.277305e+06</td>\n",
       "    </tr>\n",
       "    <tr>\n",
       "      <th>6</th>\n",
       "      <td>12</td>\n",
       "      <td>6117</td>\n",
       "      <td>1.208922e+06</td>\n",
       "    </tr>\n",
       "  </tbody>\n",
       "</table>\n",
       "</div>"
      ],
      "text/plain": [
       "   month  category_id         views\n",
       "0      4            4  1.917065e+05\n",
       "1      5            2  4.722605e+05\n",
       "2      8            5  2.493464e+05\n",
       "3      9           11  6.837607e+05\n",
       "4     10            6  3.647794e+06\n",
       "5     11         3755  1.277305e+06\n",
       "6     12         6117  1.208922e+06"
      ]
     },
     "execution_count": 203,
     "metadata": {},
     "output_type": "execute_result"
    }
   ],
   "source": [
    "CAvideos_2017_by_month = CAvideos_2017.groupby('month').agg({'category_id': 'count', 'views': 'mean'})\n",
    "CAvideos_2017_by_month.reset_index(inplace=True)\n",
    "CAvideos_2017_by_month"
   ]
  },
  {
   "cell_type": "code",
   "execution_count": null,
   "metadata": {},
   "outputs": [],
   "source": [
    "plt.figure(figsize=(10, 6))\n",
    "plt.plot(df['Дата'], df['Значение'], marker='o')\n",
    "plt.title('Линейная диаграмма по двум колонкам')\n",
    "plt.xlabel('Дата')\n",
    "plt.ylabel('Значение')\n",
    "plt.grid(True)\n",
    "plt.show()"
   ]
  },
  {
   "cell_type": "markdown",
   "metadata": {},
   "source": [
    "Оставим только 2017 и 2018"
   ]
  },
  {
   "cell_type": "code",
   "execution_count": 194,
   "metadata": {},
   "outputs": [],
   "source": [
    "videos_by_year.reset_index(inplace=True)"
   ]
  },
  {
   "cell_type": "code",
   "execution_count": 195,
   "metadata": {},
   "outputs": [
    {
     "data": {
      "text/html": [
       "<div>\n",
       "<style scoped>\n",
       "    .dataframe tbody tr th:only-of-type {\n",
       "        vertical-align: middle;\n",
       "    }\n",
       "\n",
       "    .dataframe tbody tr th {\n",
       "        vertical-align: top;\n",
       "    }\n",
       "\n",
       "    .dataframe thead th {\n",
       "        text-align: right;\n",
       "    }\n",
       "</style>\n",
       "<table border=\"1\" class=\"dataframe\">\n",
       "  <thead>\n",
       "    <tr style=\"text-align: right;\">\n",
       "      <th></th>\n",
       "      <th>year</th>\n",
       "      <th>category_id</th>\n",
       "      <th>views</th>\n",
       "    </tr>\n",
       "  </thead>\n",
       "  <tbody>\n",
       "    <tr>\n",
       "      <th>0</th>\n",
       "      <td>2017</td>\n",
       "      <td>9900</td>\n",
       "      <td>1.234709e+06</td>\n",
       "    </tr>\n",
       "    <tr>\n",
       "      <th>1</th>\n",
       "      <td>2018</td>\n",
       "      <td>30936</td>\n",
       "      <td>1.120233e+06</td>\n",
       "    </tr>\n",
       "  </tbody>\n",
       "</table>\n",
       "</div>"
      ],
      "text/plain": [
       "   year  category_id         views\n",
       "0  2017         9900  1.234709e+06\n",
       "1  2018        30936  1.120233e+06"
      ]
     },
     "execution_count": 195,
     "metadata": {},
     "output_type": "execute_result"
    }
   ],
   "source": [
    "videos_by_year"
   ]
  },
  {
   "cell_type": "code",
   "execution_count": null,
   "metadata": {},
   "outputs": [],
   "source": []
  }
 ],
 "metadata": {
  "kernelspec": {
   "display_name": "Python 3",
   "language": "python",
   "name": "python3"
  },
  "language_info": {
   "codemirror_mode": {
    "name": "ipython",
    "version": 3
   },
   "file_extension": ".py",
   "mimetype": "text/x-python",
   "name": "python",
   "nbconvert_exporter": "python",
   "pygments_lexer": "ipython3",
   "version": "3.8.3"
  }
 },
 "nbformat": 4,
 "nbformat_minor": 4
}
